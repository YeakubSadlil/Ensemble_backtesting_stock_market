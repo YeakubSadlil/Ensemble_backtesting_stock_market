{
 "cells": [
  {
   "cell_type": "markdown",
   "metadata": {},
   "source": [
    "### Import the required libraries"
   ]
  },
  {
   "cell_type": "code",
   "execution_count": 1,
   "metadata": {},
   "outputs": [],
   "source": [
    "import os\n",
    "import yfinance as yf\n",
    "import pandas as pd\n",
    "import matplotlib.pyplot as plt\n",
    "\n",
    "yf.pdr_override()\n",
    "\n",
    "# Zipline imports\n",
    "from zipline.utils.run_algo import load_extensions\n",
    "from zipline.data import bundles\n",
    "from zipline.utils.calendar_utils import get_calendar\n",
    "\n",
    "from zipline.utils.calendar_utils import get_calendar\n",
    "from zipline.api import(order_value,\n",
    "                        symbol,\n",
    "                        order_target_percent,\n",
    "                        get_open_orders)\n",
    "from zipline import run_algorithm\n",
    "from zipline.utils.calendar_utils import get_calendar\n",
    "from zipline.api import symbol # type: ignore\n",
    "\n",
    "# Ignore Warnings  \n",
    "import warnings\n",
    "warnings.filterwarnings('ignore', category=Warning)\n",
    "warnings.filterwarnings('ignore', category=RuntimeWarning)\n",
    "warnings.filterwarnings('ignore', category=DeprecationWarning)\n",
    "warnings.filterwarnings('ignore', category=UserWarning)\n",
    "\n",
    "load_extensions(\n",
    "    default=True,\n",
    "    extensions=[],\n",
    "    strict=True,\n",
    "    environ=os.environ,\n",
    ")\n",
    "%matplotlib inline\n",
    "%load_ext autoreload\n",
    "%autoreload 2"
   ]
  },
  {
   "cell_type": "code",
   "execution_count": 2,
   "metadata": {},
   "outputs": [
    {
     "name": "stderr",
     "output_type": "stream",
     "text": [
      "2024-02-13 18:49:17.580124: I external/local_tsl/tsl/cuda/cudart_stub.cc:31] Could not find cuda drivers on your machine, GPU will not be used.\n",
      "2024-02-13 18:49:18.524704: E external/local_xla/xla/stream_executor/cuda/cuda_dnn.cc:9261] Unable to register cuDNN factory: Attempting to register factory for plugin cuDNN when one has already been registered\n",
      "2024-02-13 18:49:18.525042: E external/local_xla/xla/stream_executor/cuda/cuda_fft.cc:607] Unable to register cuFFT factory: Attempting to register factory for plugin cuFFT when one has already been registered\n",
      "2024-02-13 18:49:18.626317: E external/local_xla/xla/stream_executor/cuda/cuda_blas.cc:1515] Unable to register cuBLAS factory: Attempting to register factory for plugin cuBLAS when one has already been registered\n",
      "2024-02-13 18:49:18.847395: I external/local_tsl/tsl/cuda/cudart_stub.cc:31] Could not find cuda drivers on your machine, GPU will not be used.\n",
      "2024-02-13 18:49:18.850024: I tensorflow/core/platform/cpu_feature_guard.cc:182] This TensorFlow binary is optimized to use available CPU instructions in performance-critical operations.\n",
      "To enable the following instructions: AVX2 FMA, in other operations, rebuild TensorFlow with the appropriate compiler flags.\n",
      "2024-02-13 18:49:22.745722: W tensorflow/compiler/tf2tensorrt/utils/py_utils.cc:38] TF-TRT Warning: Could not find TensorRT\n",
      "2024-02-13 18:49:25.284808: I external/local_xla/xla/stream_executor/cuda/cuda_executor.cc:901] successful NUMA node read from SysFS had negative value (-1), but there must be at least one NUMA node, so returning NUMA node zero. See more at https://github.com/torvalds/linux/blob/v6.0/Documentation/ABI/testing/sysfs-bus-pci#L344-L355\n",
      "2024-02-13 18:49:25.287297: W tensorflow/core/common_runtime/gpu/gpu_device.cc:2256] Cannot dlopen some GPU libraries. Please make sure the missing libraries mentioned above are installed properly if you would like to use GPU. Follow the guide at https://www.tensorflow.org/install/gpu for how to download and setup the required libraries for your platform.\n",
      "Skipping registering GPU devices...\n"
     ]
    }
   ],
   "source": [
    "import generate_signal as gs"
   ]
  },
  {
   "cell_type": "markdown",
   "metadata": {},
   "source": [
    "Register bundle"
   ]
  },
  {
   "cell_type": "code",
   "execution_count": 5,
   "metadata": {},
   "outputs": [],
   "source": [
    "bundle_name = 'sp50' # rename the bundle same as your ingested bundle if needed\n",
    "                     # The default bundle name is 'sp50\n",
    "bundles.register(\n",
    "    bundle_name,\n",
    "    bundles.csvdir.csvdir_equities(\n",
    "        ['daily'],\n",
    "        'Data/sp50'       # if you want to ingest your own data provide the path here\n",
    "    ),\n",
    "    calendar_name='NYSE',\n",
    ")\n",
    "\n",
    "bundles.ingest(bundle_name)"
   ]
  },
  {
   "cell_type": "markdown",
   "metadata": {},
   "source": [
    "Data Ingestion"
   ]
  },
  {
   "cell_type": "code",
   "execution_count": 8,
   "metadata": {},
   "outputs": [],
   "source": [
    "calendar_name = 'NYSE'\n",
    "calendar = get_calendar(calendar_name)\n",
    "bundle_data = bundles.load(bundle_name)\n",
    "sids = bundle_data.asset_finder.sids\n",
    "assets = bundle_data.asset_finder.retrieve_all(sids)\n",
    "sp50tickers = [coin.symbol for coin in assets]"
   ]
  },
  {
   "cell_type": "markdown",
   "metadata": {},
   "source": [
    "Define the time range for the data you want to analyze.<br>\n",
    "The minimum time range should be ```50 days or 3 months```.The reason is the LSTM model neeeds past 50 days of data to predict the every next day(51st day)."
   ]
  },
  {
   "cell_type": "code",
   "execution_count": 13,
   "metadata": {},
   "outputs": [],
   "source": [
    "START_DATE = pd.Timestamp('2018-01-01')  # change it to your desired time range\n",
    "END_DATE = pd.Timestamp('2022-12-31')\n",
    "BASE_CAPITAL = 100_000"
   ]
  },
  {
   "cell_type": "markdown",
   "metadata": {},
   "source": [
    "### Bactesting"
   ]
  },
  {
   "cell_type": "code",
   "execution_count": 14,
   "metadata": {},
   "outputs": [],
   "source": [
    "# %%capture   # uncomment the line if you want to skip the long output of the cell\n",
    "\n",
    "def initialize(context):\n",
    "    context.idx = 0\n",
    "    context.tickers = sp50tickers  # List of tickers, slice it to your desired number of stocks to trade\n",
    "    context.window = 50  # Number of days to look back for LSTM model, shoudn't change it\n",
    "    context.buy_stocks = set()\n",
    "    context.cash_pct = 0.25  # Percentage of cash to be invested in each stock , change it to your desired value\n",
    "\n",
    "# Define the handle_data function\n",
    "def handle_data(context, data):\n",
    "    context.idx += 1\n",
    "    if context.idx < context.window:\n",
    "        return\n",
    "\n",
    "    # Execute trades based on the generated signals\n",
    "    for ticker in context.tickers:\n",
    "        prices = data.history(symbol(ticker), \"price\", bar_count=context.window, frequency=\"1d\")\n",
    "        # Module is being called to generate signals\n",
    "        signal = gs.group1_ensemble_model_signals(prices) # will return signals as 1, 0, -1\n",
    "        open_orders = get_open_orders(ticker)\n",
    "\n",
    "        # Change the order logic with your desired strategy, it is a demo order logic\n",
    "        if ticker not in open_orders:\n",
    "            if signal == 1 and ticker not in context.buy_stocks:\n",
    "                if context.portfolio.cash > 0:      # Avoids negative cash to avoid short selling\n",
    "                    order_value(symbol(ticker), context.portfolio.cash * context.cash_pct)  # Buy Signal\n",
    "                    context.buy_stocks.add(ticker)\n",
    "\n",
    "            elif signal == -1 and ticker in context.buy_stocks:\n",
    "                order_target_percent(symbol(ticker), 0)  # Sell Signal\n",
    "                context.buy_stocks.remove(ticker)\n",
    "\n",
    "# Run the algorithm\n",
    "results = run_algorithm(\n",
    "    start=START_DATE,\n",
    "    end=END_DATE,\n",
    "    initialize=initialize,\n",
    "    handle_data=handle_data,\n",
    "    capital_base=BASE_CAPITAL,\n",
    "    benchmark_returns=None,\n",
    "    data_frequency='daily',\n",
    "    bundle=bundle_name\n",
    ")\n",
    "\n",
    "# remember to run the next cell to plot the performance"
   ]
  },
  {
   "cell_type": "markdown",
   "metadata": {},
   "source": [
    "plot the results with 'quantstats' full report"
   ]
  },
  {
   "cell_type": "code",
   "execution_count": null,
   "metadata": {},
   "outputs": [],
   "source": [
    "gs.plots(results)"
   ]
  }
 ],
 "metadata": {
  "kernelspec": {
   "display_name": "finenv",
   "language": "python",
   "name": "python3"
  },
  "language_info": {
   "codemirror_mode": {
    "name": "ipython",
    "version": 3
   },
   "file_extension": ".py",
   "mimetype": "text/x-python",
   "name": "python",
   "nbconvert_exporter": "python",
   "pygments_lexer": "ipython3",
   "version": "3.10.13"
  }
 },
 "nbformat": 4,
 "nbformat_minor": 2
}
