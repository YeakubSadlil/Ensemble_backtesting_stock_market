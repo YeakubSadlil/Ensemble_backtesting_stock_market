{
 "cells": [
  {
   "cell_type": "code",
   "execution_count": 1,
   "metadata": {},
   "outputs": [],
   "source": [
    "import os\n",
    "import yfinance as yf\n",
    "import pandas as pd\n",
    "import matplotlib.pyplot as plt\n",
    "\n",
    "yf.pdr_override()\n",
    "\n",
    "# Zipline imports\n",
    "from zipline.utils.run_algo import load_extensions\n",
    "from zipline.data import bundles\n",
    "from zipline.utils.calendar_utils import get_calendar\n",
    "\n",
    "from zipline.utils.calendar_utils import get_calendar\n",
    "from zipline.api import(order_value,\n",
    "                        symbol,\n",
    "                        order_target_percent,\n",
    "                        get_open_orders)\n",
    "from zipline import run_algorithm\n",
    "from zipline.utils.calendar_utils import get_calendar\n",
    "from zipline.api import symbol # type: ignore\n",
    "\n",
    "# Ignore Warnings  \n",
    "import warnings\n",
    "warnings.filterwarnings('ignore', category=Warning)\n",
    "warnings.filterwarnings('ignore', category=RuntimeWarning)\n",
    "warnings.filterwarnings('ignore', category=DeprecationWarning)\n",
    "warnings.filterwarnings('ignore', category=UserWarning)\n",
    "\n",
    "load_extensions(\n",
    "    default=True,\n",
    "    extensions=[],\n",
    "    strict=True,\n",
    "    environ=os.environ,\n",
    ")\n",
    "%matplotlib inline\n",
    "%load_ext autoreload\n",
    "%autoreload 2"
   ]
  },
  {
   "cell_type": "code",
   "execution_count": null,
   "metadata": {},
   "outputs": [],
   "source": [
    "import generate_signal as gs"
   ]
  },
  {
   "cell_type": "code",
   "execution_count": 4,
   "metadata": {},
   "outputs": [],
   "source": [
    "bundle = 'sp50'  # rename the bundle same as your ingested bundle with zipine\n",
    "calendar_name = 'NYSE'\n",
    "calendar = get_calendar(calendar_name)\n",
    "bundle_data = bundles.load(bundle)\n",
    "sids = bundle_data.asset_finder.sids\n",
    "assets = bundle_data.asset_finder.retrieve_all(sids)\n",
    "sp50tickers = [coin.symbol for coin in assets]"
   ]
  },
  {
   "cell_type": "code",
   "execution_count": 5,
   "metadata": {},
   "outputs": [],
   "source": [
    "START_DATE = pd.Timestamp('2018-01-01')  # change it to your desired time range\n",
    "END_DATE = pd.Timestamp('2018-08-30')\n",
    "BASE_CAPITAL = 100_000"
   ]
  },
  {
   "cell_type": "code",
   "execution_count": null,
   "metadata": {},
   "outputs": [],
   "source": [
    "def initialize(context):\n",
    "    context.idx = 0\n",
    "    context.tickers = sp50tickers[:1]\n",
    "    context.window = 50\n",
    "    context.buy_stocks = set()\n",
    "    context.cash_pct = 0.25\n",
    "\n",
    "# Define the handle_data function\n",
    "def handle_data(context, data):\n",
    "    context.idx += 1\n",
    "    if context.idx < context.window:\n",
    "        return\n",
    "\n",
    "    # Execute trades based on the generated signals\n",
    "    for ticker in context.tickers:\n",
    "        prices = data.history(symbol(ticker), \"price\", bar_count=context.window, frequency=\"1d\")\n",
    "        # Module is being called to generate signals\n",
    "        signal = gs.group1_ensemble_model_signals(prices)\n",
    "        open_orders = get_open_orders(ticker)\n",
    "\n",
    "        if ticker not in open_orders:\n",
    "            if signal == 1 and ticker not in context.buy_stocks:\n",
    "                if context.portfolio.cash > 0:\n",
    "                    order_value(symbol(ticker), context.portfolio.cash * context.cash_pct)  # Buy Signal\n",
    "                    context.buy_stocks.add(ticker)\n",
    "\n",
    "            elif signal == -1 and ticker in context.buy_stocks:\n",
    "                order_target_percent(symbol(ticker), 0)  # Sell Signal\n",
    "                context.buy_stocks.remove(ticker)\n",
    "\n",
    "# Run the algorithm\n",
    "results = run_algorithm(\n",
    "    start=START_DATE,\n",
    "    end=END_DATE,\n",
    "    initialize=initialize,\n",
    "    handle_data=handle_data,\n",
    "    capital_base=BASE_CAPITAL,\n",
    "    benchmark_returns=None,\n",
    "    data_frequency='daily',\n",
    "    bundle='sp50',\n",
    ")\n",
    "gs.plots(results)"
   ]
  }
 ],
 "metadata": {
  "kernelspec": {
   "display_name": "finenv",
   "language": "python",
   "name": "python3"
  },
  "language_info": {
   "codemirror_mode": {
    "name": "ipython",
    "version": 3
   },
   "file_extension": ".py",
   "mimetype": "text/x-python",
   "name": "python",
   "nbconvert_exporter": "python",
   "pygments_lexer": "ipython3",
   "version": "3.10.13"
  }
 },
 "nbformat": 4,
 "nbformat_minor": 2
}
